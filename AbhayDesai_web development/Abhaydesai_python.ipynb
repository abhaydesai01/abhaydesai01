{
 "cells": [
  {
   "cell_type": "code",
   "execution_count": null,
   "metadata": {},
   "outputs": [],
   "source": [
    "How : Python is a popular programming language. It was created by Guido van Rossum, and released in 1991.\n",
    "    \n",
    "    \n",
    "    1.Learn Coding Using Python\n",
    "    2.Make it an Habit to spend daily some time on python\n",
    "    3.Start Creating Projects\n",
    "    4.start attending Hackathons\n",
    "    5.start with open source projects\n",
    "    And\n",
    "    Make your Life Beautiful"
   ]
  }
 ],
 "metadata": {
  "kernelspec": {
   "display_name": "Python 3",
   "language": "python",
   "name": "python3"
  },
  "language_info": {
   "codemirror_mode": {
    "name": "ipython",
    "version": 3
   },
   "file_extension": ".py",
   "mimetype": "text/x-python",
   "name": "python",
   "nbconvert_exporter": "python",
   "pygments_lexer": "ipython3",
   "version": "3.6.11"
  }
 },
 "nbformat": 4,
 "nbformat_minor": 4
}
